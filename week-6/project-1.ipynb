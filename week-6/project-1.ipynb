{
 "cells": [
  {
   "cell_type": "code",
   "execution_count": 1,
   "id": "56011401-0600-4a39-834c-aea92f7bdf5b",
   "metadata": {},
   "outputs": [],
   "source": [
    "import tkinter as tk\n",
    "\n",
    "def calculate_charge():\n",
    "    weight = float(weight_entry.get())\n",
    "    location = location_var.get()\n",
    "    \n",
    "    if location == \"Ibeju-Lekki\":\n",
    "        if weight >= 10:\n",
    "            charge = 5000\n",
    "        else:\n",
    "            charge = 3500\n",
    "    elif location == \"Epe\":\n",
    "        if weight >= 10:\n",
    "            charge = 10000\n",
    "        else:\n",
    "            charge = 5000\n",
    "    else:\n",
    "        charge = \"Invalid location\"\n",
    "    \n",
    "    result_label.config(text=\"Delivery Charge: ₦{}\".format(charge))\n",
    "\n",
    "# Create main window\n",
    "root = tk.Tk()\n",
    "root.title(\"Simi Services Delivery Charges\")\n",
    "\n",
    "# Weight input\n",
    "weight_label = tk.Label(root, text=\"Enter Package Weight (kg):\")\n",
    "weight_label.grid(row=0, column=0, padx=10, pady=5, sticky=\"w\")\n",
    "weight_entry = tk.Entry(root)\n",
    "weight_entry.grid(row=0, column=1, padx=10, pady=5)\n",
    "\n",
    "# Location input\n",
    "location_label = tk.Label(root, text=\"Select Delivery Location:\")\n",
    "location_label.grid(row=1, column=0, padx=10, pady=5, sticky=\"w\")\n",
    "locations = [\"Ibeju-Lekki\", \"Epe\"]\n",
    "location_var = tk.StringVar(root)\n",
    "location_var.set(locations[0])\n",
    "location_menu = tk.OptionMenu(root, location_var, *locations)\n",
    "location_menu.grid(row=1, column=2, padx=30, pady=0, sticky=\"w\")\n",
    "\n",
    "# Button to calculate charge\n",
    "calculate_button = tk.Button(root, text=\"Calculate\", command=calculate_charge)\n",
    "calculate_button.grid(row=2, column=0, columnspan=2, padx=10, pady=10)\n",
    "\n",
    "# Display result\n",
    "result_label = tk.Label(root, text=\"\")\n",
    "result_label.grid(row=3, column=0, columnspan=2)\n",
    "\n",
    "root.mainloop()\n"
   ]
  },
  {
   "cell_type": "code",
   "execution_count": null,
   "id": "c6194228-faff-410f-824b-6d2aef16773d",
   "metadata": {},
   "outputs": [],
   "source": []
  }
 ],
 "metadata": {
  "kernelspec": {
   "display_name": "Python 3 (ipykernel)",
   "language": "python",
   "name": "python3"
  },
  "language_info": {
   "codemirror_mode": {
    "name": "ipython",
    "version": 3
   },
   "file_extension": ".py",
   "mimetype": "text/x-python",
   "name": "python",
   "nbconvert_exporter": "python",
   "pygments_lexer": "ipython3",
   "version": "3.11.7"
  }
 },
 "nbformat": 4,
 "nbformat_minor": 5
}
