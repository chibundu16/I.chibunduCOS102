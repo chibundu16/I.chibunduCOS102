{
 "cells": [
  {
   "cell_type": "code",
   "execution_count": 1,
   "id": "16fd91a8-f7a2-4424-8cb4-c76a2cf21e15",
   "metadata": {},
   "outputs": [
    {
     "name": "stdout",
     "output_type": "stream",
     "text": [
      "100\n",
      "Data type of variables is <class 'int'>\n"
     ]
    }
   ],
   "source": [
    "#Integer number\n",
    "num = 100\n",
    "print(num)\n",
    "print(\"Data type of variables is\",type(num))"
   ]
  },
  {
   "cell_type": "code",
   "execution_count": 2,
   "id": "6d01bfd1-3f08-4851-aef5-784f64bd6809",
   "metadata": {},
   "outputs": [
    {
     "name": "stdout",
     "output_type": "stream",
     "text": [
      "34.45\n",
      "Data type of variables is <class 'float'>\n"
     ]
    }
   ],
   "source": [
    "#float number\n",
    "fnum = 34.45\n",
    "print(fnum)\n",
    "print(\"Data type of variables is\",type(fnum))"
   ]
  },
  {
   "cell_type": "code",
   "execution_count": 4,
   "id": "e7f7c0f8-59e0-4a11-b3f8-505b909cde0b",
   "metadata": {},
   "outputs": [
    {
     "name": "stdout",
     "output_type": "stream",
     "text": [
      "(3+4j)\n",
      "Data type of variables is <class 'complex'>\n"
     ]
    }
   ],
   "source": [
    "#complex number\n",
    "cnum = 3 + 4j\n",
    "print(cnum)\n",
    "print(\"Data type of variables is\",type(cnum))"
   ]
  },
  {
   "cell_type": "code",
   "execution_count": null,
   "id": "8b05cb1a-34ad-4935-9288-1b46f5683c4b",
   "metadata": {},
   "outputs": [],
   "source": []
  }
 ],
 "metadata": {
  "kernelspec": {
   "display_name": "Python 3 (ipykernel)",
   "language": "python",
   "name": "python3"
  },
  "language_info": {
   "codemirror_mode": {
    "name": "ipython",
    "version": 3
   },
   "file_extension": ".py",
   "mimetype": "text/x-python",
   "name": "python",
   "nbconvert_exporter": "python",
   "pygments_lexer": "ipython3",
   "version": "3.11.7"
  }
 },
 "nbformat": 4,
 "nbformat_minor": 5
}
