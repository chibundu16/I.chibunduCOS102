{
 "cells": [
  {
   "cell_type": "code",
   "execution_count": 3,
   "id": "93d35205-622c-43d4-95d6-1ce264023658",
   "metadata": {},
   "outputs": [
    {
     "name": "stdout",
     "output_type": "stream",
     "text": [
      "The simple intrest is 15000.0\n"
     ]
    }
   ],
   "source": [
    "p = 10000\n",
    "r = 5\n",
    "t = 10\n",
    "m = (r/100)*t\n",
    "n = 1 + m\n",
    "A = p * n\n",
    "print(\"The simple intrest is\",A)"
   ]
  },
  {
   "cell_type": "code",
   "execution_count": 4,
   "id": "d327710a-3f05-47ef-9281-80d990d24ae9",
   "metadata": {},
   "outputs": [
    {
     "name": "stdout",
     "output_type": "stream",
     "text": [
      "The compound intrest is 1551693830.231392\n"
     ]
    }
   ],
   "source": [
    "p = 12000\n",
    "n = 3\n",
    "t = 4\n",
    "R = 5\n",
    "z = ((R/n)+1)**(n*t)\n",
    "A = p*z\n",
    "print(\"The compound intrest is\",A)"
   ]
  },
  {
   "cell_type": "code",
   "execution_count": 5,
   "id": "f1cd1345-0876-4498-8ee2-199b3333096e",
   "metadata": {},
   "outputs": [
    {
     "name": "stdout",
     "output_type": "stream",
     "text": [
      " The annuity plan is 1.2440769440423575e+18\n"
     ]
    }
   ],
   "source": [
    "p = 30000\n",
    "R = 6\n",
    "n = 5\n",
    "t = 8\n",
    "z = ((R/n)+1)**(n*t)\n",
    "v = z - 1\n",
    "div = R/n\n",
    "y = v/div\n",
    "A = p*y\n",
    "print(\" The annuity plan is\",A)"
   ]
  },
  {
   "cell_type": "code",
   "execution_count": null,
   "id": "143dd2bf-813b-4c93-899c-211e2e81b0f7",
   "metadata": {},
   "outputs": [],
   "source": []
  }
 ],
 "metadata": {
  "kernelspec": {
   "display_name": "Python 3 (ipykernel)",
   "language": "python",
   "name": "python3"
  },
  "language_info": {
   "codemirror_mode": {
    "name": "ipython",
    "version": 3
   },
   "file_extension": ".py",
   "mimetype": "text/x-python",
   "name": "python",
   "nbconvert_exporter": "python",
   "pygments_lexer": "ipython3",
   "version": "3.11.7"
  }
 },
 "nbformat": 4,
 "nbformat_minor": 5
}
