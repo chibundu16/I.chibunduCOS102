{
 "cells": [
  {
   "cell_type": "code",
   "execution_count": 1,
   "id": "9a9ef177-0328-4684-b634-16e097fe2895",
   "metadata": {},
   "outputs": [
    {
     "name": "stdout",
     "output_type": "stream",
     "text": [
      "Hi my name is Matthew, I am a string\n",
      "<class 'str'>\n",
      "Hi my name is precious, I am also a string\n",
      "<class 'str'>\n"
     ]
    }
   ],
   "source": [
    "#python programs to print strings and types\n",
    "str1 = \"Hi my name is Matthew, I am a string\"\n",
    "str2 = \"Hi my name is precious, I am also a string\"\n",
    "\n",
    "#displaying string str1 and its type\n",
    "print(str1)\n",
    "print(type(str1))\n",
    "\n",
    "#displaying string str2 and its type\n",
    "print(str2)\n",
    "print(type(str2))"
   ]
  },
  {
   "cell_type": "code",
   "execution_count": null,
   "id": "a4bfb1b5-67df-44f0-8df5-0bdb6f8e650e",
   "metadata": {},
   "outputs": [],
   "source": []
  }
 ],
 "metadata": {
  "kernelspec": {
   "display_name": "Python 3 (ipykernel)",
   "language": "python",
   "name": "python3"
  },
  "language_info": {
   "codemirror_mode": {
    "name": "ipython",
    "version": 3
   },
   "file_extension": ".py",
   "mimetype": "text/x-python",
   "name": "python",
   "nbconvert_exporter": "python",
   "pygments_lexer": "ipython3",
   "version": "3.11.7"
  }
 },
 "nbformat": 4,
 "nbformat_minor": 5
}
