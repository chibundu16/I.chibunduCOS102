{
 "cells": [
  {
   "cell_type": "code",
   "execution_count": 6,
   "id": "6de04a5f-b7e8-4f31-a9eb-e35d56b86e39",
   "metadata": {},
   "outputs": [
    {
     "name": "stdout",
     "output_type": "stream",
     "text": [
      "THE ATR OF STAFF AT IZIFIN TECHNOLOGY\n"
     ]
    },
    {
     "name": "stdin",
     "output_type": "stream",
     "text": [
      "what is your name ? Chibundu\n",
      "How old are you? 44\n",
      "How long have you worked for Izifin technology? 44\n"
     ]
    },
    {
     "name": "stdout",
     "output_type": "stream",
     "text": [
      "Chibundu your assigned ATR for your service at the company is 1500000.0\n"
     ]
    }
   ],
   "source": [
    "a = 5600000.00\n",
    "b = 4480000.00\n",
    "c = 1500000.00\n",
    "d = 550000.00\n",
    "print (\"THE ATR OF STAFF AT IZIFIN TECHNOLOGY\")\n",
    "name = input('what is your name ?')\n",
    "age = int(input(\"How old are you?\"))\n",
    "exp = int(input(\"How long have you worked for Izifin technology?\")) \n",
    "if exp > 25 and age >= 55 :\n",
    "   print(f\"{name} your assigned ATR for your service at the company is {a}\")\n",
    "elif exp > 20 and age>= 45 :\n",
    "  print(f\"{name} your assigned ATR for your service at the company is {b}\")\n",
    "elif exp > 10 and age>= 35 :\n",
    "  print(f\"{name} your assigned ATR for your service at the company is {c}\")\n",
    "else :\n",
    "  print(f\"{name}Your assigned ATR for your service at the company is {d}\")    \n",
    "    \n",
    "    \n"
   ]
  },
  {
   "cell_type": "code",
   "execution_count": null,
   "id": "45b57a91-9917-42f7-82d7-c67ad929ada1",
   "metadata": {},
   "outputs": [],
   "source": []
  }
 ],
 "metadata": {
  "kernelspec": {
   "display_name": "Python 3 (ipykernel)",
   "language": "python",
   "name": "python3"
  },
  "language_info": {
   "codemirror_mode": {
    "name": "ipython",
    "version": 3
   },
   "file_extension": ".py",
   "mimetype": "text/x-python",
   "name": "python",
   "nbconvert_exporter": "python",
   "pygments_lexer": "ipython3",
   "version": "3.11.7"
  }
 },
 "nbformat": 4,
 "nbformat_minor": 5
}
