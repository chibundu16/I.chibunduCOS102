{
 "cells": [
  {
   "cell_type": "code",
   "execution_count": 7,
   "id": "25c0295c-5b49-4048-8fca-8c0f1bbf9c27",
   "metadata": {},
   "outputs": [
    {
     "name": "stdout",
     "output_type": "stream",
     "text": [
      "Evylyn 17 5.5 80\n",
      "Jessica 16 6.0 85\n",
      "Somto 17 5.4 70\n",
      "Edith 18 5.9 60\n",
      "Liza 16 5.6 76\n",
      "Madonna 18 5.5 66\n",
      "Waje 17 6.1 87\n",
      "Tola 20 6.0 95\n",
      "Aishat 19 5.7 50\n",
      "Latifat 17 5.5 49\n",
      "\n",
      "\n",
      "Chinedu 19 5.7 74\n",
      "Liam 16 5.9 87\n",
      "Wale 18 5.8 75\n",
      "Gbenga 17 6.1 68\n",
      "Abiola 20 5.9 66\n",
      "Kola 19 5.5 78\n",
      "Kunle 16 6.1 87\n",
      "George 18 5.4 98\n",
      "Thomas 17 5.8 54\n",
      "Wesley 19 5.7 60\n"
     ]
    }
   ],
   "source": [
    "girls = [\"Evylyn\",\"Jessica\",\"Somto\",\"Edith\",\"Liza\",\"Madonna\",\"Waje\",\"Tola\",\"Aishat\",\"Latifat\"]\n",
    "girlsage = [17,16,17,18,16,18,17,20,19,17]\n",
    "girlsheight = [5.5,6.0,5.4,5.9,5.6,5.5,6.1,6.0,5.7,5.5]\n",
    "girlsscores = [80,85,70,60,76,66,87,95,50,49]\n",
    "for i in range(0,10) :\n",
    "     print(girls[i],girlsage[i],girlsheight[i],girlsscores[i])\n",
    "    \n",
    "print(\"\\n\")\n",
    "\n",
    "boys = [\"Chinedu\",\"Liam\",\"Wale\",\"Gbenga\",\"Abiola\",\"Kola\",\"Kunle\",\"George\",\"Thomas\",\"Wesley\"]\n",
    "boyssage = [19,16,18,17,20,19,16,18,17,19]\n",
    "boysheight = [5.7,5.9,5.8,6.1,5.9,5.5,6.1,5.4,5.8,5.7]\n",
    "boysscores = [74,87,75,68,66,78,87,98,54,60]\n",
    "for i in range(0,10) :\n",
    "     print(boys[i],boyssage[i],boysheight[i],boysscores[i])"
   ]
  },
  {
   "cell_type": "code",
   "execution_count": null,
   "id": "2e6b9f25-f0ed-4f14-af7c-6f85384f284d",
   "metadata": {},
   "outputs": [],
   "source": []
  }
 ],
 "metadata": {
  "kernelspec": {
   "display_name": "Python 3 (ipykernel)",
   "language": "python",
   "name": "python3"
  },
  "language_info": {
   "codemirror_mode": {
    "name": "ipython",
    "version": 3
   },
   "file_extension": ".py",
   "mimetype": "text/x-python",
   "name": "python",
   "nbconvert_exporter": "python",
   "pygments_lexer": "ipython3",
   "version": "3.11.7"
  }
 },
 "nbformat": 4,
 "nbformat_minor": 5
}
