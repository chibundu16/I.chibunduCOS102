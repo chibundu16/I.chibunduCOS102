{
 "cells": [
  {
   "cell_type": "code",
   "execution_count": 6,
   "id": "56011401-0600-4a39-834c-aea92f7bdf5b",
   "metadata": {},
   "outputs": [
    {
     "name": "stdout",
     "output_type": "stream",
     "text": [
      "no\n",
      "no\n",
      "no\n",
      "no\n",
      "yes\n"
     ]
    }
   ],
   "source": [
    "x = [1,2,3,4,5,6,7,8,9]\n",
    "\n",
    "for element in x:\n",
    "    if element == 5:\n",
    "        print('yes')\n",
    "        break\n",
    "    else:\n",
    "        print('no')"
   ]
  },
  {
   "cell_type": "code",
   "execution_count": 5,
   "id": "daef1224-76a8-4b01-b37d-cff8eaa411bd",
   "metadata": {},
   "outputs": [
    {
     "name": "stdout",
     "output_type": "stream",
     "text": [
      "no\n"
     ]
    }
   ],
   "source": [
    "x = [1,2,3,4,6,7,8,9]\n",
    "isThere5 = False\n",
    "for element in x:\n",
    "    if element == 5:\n",
    "        isThere5 = True\n",
    "        print('yes')\n",
    "\n",
    "if isThere5 == False:\n",
    "    print('no')"
   ]
  },
  {
   "cell_type": "code",
   "execution_count": null,
   "id": "7e4b8ba6-30ea-422d-8ec0-5d4c852d8939",
   "metadata": {},
   "outputs": [],
   "source": []
  }
 ],
 "metadata": {
  "kernelspec": {
   "display_name": "Python 3 (ipykernel)",
   "language": "python",
   "name": "python3"
  },
  "language_info": {
   "codemirror_mode": {
    "name": "ipython",
    "version": 3
   },
   "file_extension": ".py",
   "mimetype": "text/x-python",
   "name": "python",
   "nbconvert_exporter": "python",
   "pygments_lexer": "ipython3",
   "version": "3.11.7"
  }
 },
 "nbformat": 4,
 "nbformat_minor": 5
}
