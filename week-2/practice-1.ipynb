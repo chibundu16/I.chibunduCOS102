{
 "cells": [
  {
   "cell_type": "code",
   "execution_count": 2,
   "id": "21f9e269-f4b7-4ae1-b268-a6727c5803f8",
   "metadata": {},
   "outputs": [
    {
     "name": "stdin",
     "output_type": "stream",
     "text": [
      "Enter your state of origin: Anambra\n"
     ]
    },
    {
     "name": "stdout",
     "output_type": "stream",
     "text": [
      "Your state of origin is:  Anambra\n",
      "the first character is: A\n",
      "The characteers starting from the third to the fifth are: amb\n",
      "The string starting from the third character is: ambra\n",
      "state of origin two times AnambraAnambra\n"
     ]
    }
   ],
   "source": [
    "str = input(\"Enter your state of origin:\")\n",
    "\n",
    "print (\"Your state of origin is: \", str)\n",
    "print (\"the first character is:\",str[0])\n",
    "print (\"The characteers starting from the third to the fifth are:\", str[2:5])\n",
    "print (\"The string starting from the third character is:\", str[2:])\n",
    "print (\"state of origin two times\", str * 2)\n"
   ]
  },
  {
   "cell_type": "code",
   "execution_count": 2,
   "id": "a8e78f38-4bfe-4bbb-af41-5ac09f7b4ae9",
   "metadata": {},
   "outputs": [
    {
     "name": "stdin",
     "output_type": "stream",
     "text": [
      "Enter mass in kilograms: 22\n"
     ]
    },
    {
     "name": "stdout",
     "output_type": "stream",
     "text": [
      "The energy auivalent to 22.0 kg to mass is 1.9772613932209987e+18 joules.\n"
     ]
    }
   ],
   "source": [
    "# Input fron user\n",
    "m = float (input(\"Enter mass in kilograms:\"))\n",
    "#constant value for speed of light in m/s\n",
    "c = 299792458\n",
    "#calculating energy using eisstines equations\n",
    "energy = m * c ** 2\n",
    "#displaying the result\n",
    "print(f\"The energy auivalent to {m} kg to mass is {energy} joules.\")\n"
   ]
  },
  {
   "cell_type": "code",
   "execution_count": 6,
   "id": "cd7525ae-d492-45e3-adf5-292311c4102e",
   "metadata": {},
   "outputs": [
    {
     "name": "stdout",
     "output_type": "stream",
     "text": [
      "['Anaconda', 786, 2.23, 'Jupyter', 70.2]\n",
      "Anaconda\n",
      "[786, 2.23]\n",
      "[2.23, 'Jupyter', 70.2]\n",
      "[321, 'python', 321, 'python']\n",
      "['Anaconda', 786, 2.23, 'Jupyter', 70.2, 321, 'python']\n"
     ]
    }
   ],
   "source": [
    "list = ['Anaconda', 786, 2.23, 'Jupyter', 70.2 ]\n",
    "shortlist = [321, 'python']\n",
    "print (list)         #prints complete list\n",
    "print (list[0])      #prints first element of the list\n",
    "print (list[1:3])    #prints elements starting from 2nd to the 3rd\n",
    "print (list[2:])     #prints elements starting from the 3rd element\n",
    "print (shortlist * 2)#print list two times\n",
    "print(list + shortlist)#prints concatenated list\n"
   ]
  },
  {
   "cell_type": "code",
   "execution_count": 8,
   "id": "23f3995b-e3af-4385-9ae4-c135d446c1fe",
   "metadata": {},
   "outputs": [
    {
     "name": "stdout",
     "output_type": "stream",
     "text": [
      "('Ekiti', 750, 'oshogbo', 250, 'Akure', 500)\n",
      "500\n",
      "('oshogbo', 250)\n",
      "(250, 'Akure', 500)\n",
      "('Abeokuta', 300, 'ogbomosho', 'Abeokuta', 300, 'ogbomosho', 'Abeokuta', 300, 'ogbomosho')\n",
      "('Ekiti', 750, 'oshogbo', 250, 'Akure', 500, 'Abeokuta', 300, 'ogbomosho')\n"
     ]
    }
   ],
   "source": [
    "tuple = (\"Ekiti\", 750, 'oshogbo', 250, \"Akure\", 500)\n",
    "s_tuple = (\"Abeokuta\", 300, \"ogbomosho\")\n",
    "\n",
    "# prints the complete tuple\n",
    "print (tuple)\n",
    "#prints last element of the tuple\n",
    "print (tuple[-1])\n",
    "#prints elments of the tuple starting from second till the third\n",
    "print (tuple[2:4])\n",
    "\n",
    "#prints elments of the tuple starting from third\n",
    "print (tuple[3:])\n",
    "\n",
    "#prints elments of the tuple twice\n",
    "print (s_tuple * 3)\n",
    "\n",
    "#prints concatenated tuple\n",
    "print(tuple + s_tuple)"
   ]
  },
  {
   "cell_type": "code",
   "execution_count": 10,
   "id": "6f7fe753-8bc7-4a66-826b-7830b358361f",
   "metadata": {},
   "outputs": [
    {
     "name": "stdout",
     "output_type": "stream",
     "text": [
      "False\n",
      "False\n",
      "False\n",
      "False\n",
      "True\n"
     ]
    }
   ],
   "source": [
    "#Rrturns false a game_1 is not equal to game_2\n",
    "game_1 = 2\n",
    "game_2 = 4\n",
    "print (bool(game_1 == game_2))\n",
    "# or\n",
    "print(game_1 == game_2)\n",
    "\n",
    "#returns false as val in none\n",
    "val = None\n",
    "print(bool(val))\n",
    "\n",
    "#returns false as num is an empty sequence\n",
    "num = ()\n",
    "print(bool(num))\n",
    "\n",
    "#returns true as age is bollean\n",
    "age = True\n",
    "print(bool(age))"
   ]
  },
  {
   "cell_type": "code",
   "execution_count": 11,
   "id": "41c4a9a2-c780-4dbe-a21e-b04d9b968234",
   "metadata": {},
   "outputs": [
    {
     "name": "stdout",
     "output_type": "stream",
     "text": [
      "Grade = 70\n",
      "GPA = 4\n",
      "CGPA = 4\n"
     ]
    }
   ],
   "source": [
    "#convert to int\n",
    "grade = int(70)    #grade will be 70\n",
    "gpa = int(4.9)     #gpa will be 4.9\n",
    "cgpa = int (\"4\")   #cgpa will be 4\n",
    "\n",
    "print(f\"Grade = {grade}\")\n",
    "print(f\"GPA = {gpa}\")\n",
    "print(f\"CGPA = {cgpa}\")"
   ]
  },
  {
   "cell_type": "code",
   "execution_count": 13,
   "id": "45a06190-8398-4101-b01d-e862ca04a25e",
   "metadata": {},
   "outputs": [
    {
     "name": "stdout",
     "output_type": "stream",
     "text": [
      "Grade = 97.0\n",
      "GPA = 5.0\n",
      "CGPA = 4.7\n"
     ]
    }
   ],
   "source": [
    "#convert to float\n",
    "grade = float(97)\n",
    "gpa = float(5)\n",
    "cgpa = float (\"4.7\") \n",
    "\n",
    "print(f\"Grade = {grade}\")\n",
    "print(f\"GPA = {gpa}\")\n",
    "print(f\"CGPA = {cgpa}\")"
   ]
  },
  {
   "cell_type": "code",
   "execution_count": null,
   "id": "a0ab9121-dbce-4ad5-bf5d-726b484e8bc0",
   "metadata": {},
   "outputs": [],
   "source": []
  }
 ],
 "metadata": {
  "kernelspec": {
   "display_name": "Python 3 (ipykernel)",
   "language": "python",
   "name": "python3"
  },
  "language_info": {
   "codemirror_mode": {
    "name": "ipython",
    "version": 3
   },
   "file_extension": ".py",
   "mimetype": "text/x-python",
   "name": "python",
   "nbconvert_exporter": "python",
   "pygments_lexer": "ipython3",
   "version": "3.11.7"
  }
 },
 "nbformat": 4,
 "nbformat_minor": 5
}
