{
 "cells": [
  {
   "cell_type": "code",
   "execution_count": null,
   "id": "bd320310-ac7a-4d06-85e2-3e3ca6ed65bd",
   "metadata": {},
   "outputs": [],
   "source": [
    "usersInput = int(input('Enter your choice:\\nSelect 1 for Quadratic Equation\\nSelect 2 for Cubic Equation\\nSelect 3 for Quartic Equation\\n'))\n",
    "\n",
    "if usersInput == 1:     # Quardratic\n",
    "    A = float(input('input value for A:'))\n",
    "    B = float(input('input value for B:'))\n",
    "    C = float(input('input value for C:'))\n",
    "    # solving quadratic equation via quadratic formular:\n",
    "    d = (B**2 - 4 * A * C)**0.5\n",
    "    x1 = (-B + d) /(2 * A)\n",
    "    x2 = (-B - d) /(2 * A)\n",
    "    print(f'The roots of the equations are:{x1} and {x2}')\n",
    "\n",
    "elif usersInput == 2:   # Cubic equation\n",
    "    A = float(input('input value for A:'))\n",
    "    B = float(input('input value for B:'))\n",
    "    C = float(input('input value for C:'))\n",
    "    D = float(input('input value for D:'))\n",
    "    # solving cubic equation by trial and error from a range of integers only:\n",
    "    roots = []\n",
    "    for i in range(-100, 101):\n",
    "        x = i\n",
    "        equation = (A * x ** 3) + (B * x ** 2) + (C * x) + D\n",
    "        if equation == 0.0:\n",
    "            roots.append(x)\n",
    "    if len(roots) == 0:\n",
    "        print('No roots found')\n",
    "    else:\n",
    "        print(f'The roots are: {roots}')\n",
    "\n",
    "elif usersInput == 3:   # Quartic equation\n",
    "    A = float(input('Enter value for A:'))\n",
    "    B = float(input('Enter value for B:'))\n",
    "    C = float(input('Enter value for C:'))\n",
    "    D = float(input('Enter value for D:'))\n",
    "    E = float(input('Enter value for E:'))\n",
    "    # solving quartic equation by trial and error from a range of integers only:\n",
    "    roots = []\n",
    "    for i in range(-100, 101):\n",
    "        x = i\n",
    "        equation = (A * x ** 4) + (B * x ** 3) + (C * x ** 2) + (D * x) + E\n",
    "        if equation == 0.0:\n",
    "            roots.append(x)\n",
    "    if len(roots) == 0:\n",
    "        print('No roots found')\n",
    "    else:\n",
    "        print(f'The roots are: {roots}')\n",
    "else:\n",
    "    print('Invalid Input')\n",
    "\n",
    "\n",
    "\n"
   ]
  },
  {
   "cell_type": "code",
   "execution_count": null,
   "id": "46d553d1-25e3-4b09-ac6d-ec8f95bfae33",
   "metadata": {},
   "outputs": [],
   "source": []
  }
 ],
 "metadata": {
  "kernelspec": {
   "display_name": "Python 3 (ipykernel)",
   "language": "python",
   "name": "python3"
  },
  "language_info": {
   "codemirror_mode": {
    "name": "ipython",
    "version": 3
   },
   "file_extension": ".py",
   "mimetype": "text/x-python",
   "name": "python",
   "nbconvert_exporter": "python",
   "pygments_lexer": "ipython3",
   "version": "3.11.7"
  }
 },
 "nbformat": 4,
 "nbformat_minor": 5
}
